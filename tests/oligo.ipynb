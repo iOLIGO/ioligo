{
 "cells": [
  {
   "cell_type": "markdown",
   "id": "1a126034-8481-407c-9d8a-3206eab59448",
   "metadata": {},
   "source": [
    "# oligo"
   ]
  },
  {
   "cell_type": "markdown",
   "id": "cafaa63d-3273-4b41-98c7-d207120506f0",
   "metadata": {},
   "source": [
    "## API"
   ]
  },
  {
   "cell_type": "markdown",
   "id": "c2337e7b-3e20-40c1-a229-2f88161bab4d",
   "metadata": {},
   "source": [
    "### OLIGO"
   ]
  },
  {
   "cell_type": "code",
   "execution_count": 1,
   "id": "297befb4-be23-49c2-84b3-b94e5a532d52",
   "metadata": {},
   "outputs": [],
   "source": [
    "from oligo import OLIGO"
   ]
  },
  {
   "cell_type": "code",
   "execution_count": 2,
   "id": "43f483dd-c6cc-4c7c-aa5e-f7befb4611be",
   "metadata": {},
   "outputs": [],
   "source": [
    "oligo_file = \"test_data/oligo/test.oligo\""
   ]
  },
  {
   "cell_type": "code",
   "execution_count": 3,
   "id": "2d8dca8d-fd14-48e5-bf21-a77d0ede8862",
   "metadata": {},
   "outputs": [],
   "source": [
    "oligo = OLIGO()"
   ]
  },
  {
   "cell_type": "code",
   "execution_count": 4,
   "id": "8427652a-6dac-49c9-8247-717cf4c81cd8",
   "metadata": {},
   "outputs": [],
   "source": [
    "oligo.read(oligo_file)"
   ]
  },
  {
   "cell_type": "code",
   "execution_count": 5,
   "id": "0b043e6a-aa24-49f3-bad5-ec446c4764ec",
   "metadata": {},
   "outputs": [
    {
     "data": {
      "text/plain": [
       "'sample'"
      ]
     },
     "execution_count": 5,
     "metadata": {},
     "output_type": "execute_result"
    }
   ],
   "source": [
    "oligo.name"
   ]
  },
  {
   "cell_type": "code",
   "execution_count": 6,
   "id": "e0e0177c-0b96-44de-8bbd-0b2ac46359c7",
   "metadata": {},
   "outputs": [
    {
     "data": {
      "text/plain": [
       "'G-sample'"
      ]
     },
     "execution_count": 6,
     "metadata": {},
     "output_type": "execute_result"
    }
   ],
   "source": [
    "oligo.group"
   ]
  },
  {
   "cell_type": "code",
   "execution_count": 7,
   "id": "3c435c2b-295d-48d5-86f1-9513851e49b9",
   "metadata": {},
   "outputs": [
    {
     "data": {
      "text/plain": [
       "'DNA'"
      ]
     },
     "execution_count": 7,
     "metadata": {},
     "output_type": "execute_result"
    }
   ],
   "source": [
    "oligo.type"
   ]
  },
  {
   "cell_type": "code",
   "execution_count": 8,
   "id": "e6fb0547-12ba-45c9-a79b-8523f5cf5d37",
   "metadata": {},
   "outputs": [
    {
     "data": {
      "text/plain": [
       "{'fa': ['hg19', 'mm10'],\n",
       " 'gtf': ['gtf1', 'gtf2'],\n",
       " 'location': ['1:chr1:0:5000:+', '1:chr2:2000:3000:-']}"
      ]
     },
     "execution_count": 8,
     "metadata": {},
     "output_type": "execute_result"
    }
   ],
   "source": [
    "oligo.origin"
   ]
  },
  {
   "cell_type": "code",
   "execution_count": 5,
   "id": "41a3e5c7-7632-4ea0-85c9-ab37bc6a29bb",
   "metadata": {},
   "outputs": [
    {
     "data": {
      "text/plain": [
       "{'tools': ['tools1', 'tools2'],\n",
       " 'version': ['version1', 'version2'],\n",
       " 'params': ['params1', 'params2']}"
      ]
     },
     "execution_count": 5,
     "metadata": {},
     "output_type": "execute_result"
    }
   ],
   "source": [
    "oligo.origin_tools"
   ]
  },
  {
   "cell_type": "code",
   "execution_count": 6,
   "id": "fd658f1e-b244-4c15-ab4d-21bc04ec4731",
   "metadata": {},
   "outputs": [
    {
     "data": {
      "text/plain": [
       "{'fa': ['hg19', 'mm10'],\n",
       " 'gtf': ['gtf1', 'gtf2'],\n",
       " 'location': ['chr1:100:2000:+']}"
      ]
     },
     "execution_count": 6,
     "metadata": {},
     "output_type": "execute_result"
    }
   ],
   "source": [
    "oligo.target"
   ]
  },
  {
   "cell_type": "code",
   "execution_count": 7,
   "id": "b73ba1bf-e82d-4fec-ac43-f782c412a6d8",
   "metadata": {},
   "outputs": [
    {
     "data": {
      "text/plain": [
       "{'tools': ['tools1', 'tools2'],\n",
       " 'version': ['version1', 'version2'],\n",
       " 'params': ['params1', 'params2']}"
      ]
     },
     "execution_count": 7,
     "metadata": {},
     "output_type": "execute_result"
    }
   ],
   "source": [
    "oligo.target_tools"
   ]
  },
  {
   "cell_type": "code",
   "execution_count": 8,
   "id": "fb590616-e739-4740-ab8d-fb9b4a0b6aad",
   "metadata": {},
   "outputs": [
    {
     "data": {
      "text/plain": [
       "{'fa': ['fa1', 'fa2', 'fa3'],\n",
       " 'gtf': ['gtf3', 'gtf4', 'gtf3', 'gtf4'],\n",
       " 'location': []}"
      ]
     },
     "execution_count": 8,
     "metadata": {},
     "output_type": "execute_result"
    }
   ],
   "source": [
    "oligo.negative"
   ]
  },
  {
   "cell_type": "code",
   "execution_count": 9,
   "id": "bf9d1dff-062e-4b29-9543-90545e0d535e",
   "metadata": {},
   "outputs": [
    {
     "data": {
      "text/plain": [
       "{'tools': ['blast', 'blast'],\n",
       " 'version': ['v1.0', 'v1.0'],\n",
       " 'params': ['default', 'default']}"
      ]
     },
     "execution_count": 9,
     "metadata": {},
     "output_type": "execute_result"
    }
   ],
   "source": [
    "oligo.negative_tools"
   ]
  },
  {
   "cell_type": "code",
   "execution_count": 10,
   "id": "52308ed0-c337-4d65-b64f-cf4ce166ea82",
   "metadata": {},
   "outputs": [
    {
     "data": {
      "text/plain": [
       "{'low': 35.0, 'high': 45.0}"
      ]
     },
     "execution_count": 10,
     "metadata": {},
     "output_type": "execute_result"
    }
   ],
   "source": [
    "oligo.temp"
   ]
  },
  {
   "cell_type": "code",
   "execution_count": 11,
   "id": "cefee4ce-ad83-4df3-9a3c-fdfa3890ee86",
   "metadata": {},
   "outputs": [
    {
     "data": {
      "text/plain": [
       "{'tools': 'biopython', 'version': 'v1.0', 'params': 'default'}"
      ]
     },
     "execution_count": 11,
     "metadata": {},
     "output_type": "execute_result"
    }
   ],
   "source": [
    "oligo.temp_tools"
   ]
  },
  {
   "cell_type": "code",
   "execution_count": 12,
   "id": "cd99e6e7-edd5-4e0a-83d6-d1a4f6874827",
   "metadata": {},
   "outputs": [
    {
     "data": {
      "text/plain": [
       "{'low': '', 'high': 0.3}"
      ]
     },
     "execution_count": 12,
     "metadata": {},
     "output_type": "execute_result"
    }
   ],
   "source": [
    "oligo.ss"
   ]
  },
  {
   "cell_type": "code",
   "execution_count": 13,
   "id": "a7f3c668-218a-4dff-81ed-03d98615fdd5",
   "metadata": {},
   "outputs": [
    {
     "data": {
      "text/plain": [
       "{'tools': 'nupakc', 'version': 'v1.0', 'params': 'default'}"
      ]
     },
     "execution_count": 13,
     "metadata": {},
     "output_type": "execute_result"
    }
   ],
   "source": [
    "oligo.ss_tools"
   ]
  },
  {
   "cell_type": "code",
   "execution_count": 14,
   "id": "94507b74-f8f3-473e-88ca-331162df421a",
   "metadata": {},
   "outputs": [
    {
     "data": {
      "text/plain": [
       "'20240417'"
      ]
     },
     "execution_count": 14,
     "metadata": {},
     "output_type": "execute_result"
    }
   ],
   "source": [
    "oligo.date"
   ]
  },
  {
   "cell_type": "code",
   "execution_count": 15,
   "id": "6574cb5b-6e3e-488a-850e-27b461d4742d",
   "metadata": {},
   "outputs": [
    {
     "data": {
      "text/plain": [
       "'wangcong'"
      ]
     },
     "execution_count": 15,
     "metadata": {},
     "output_type": "execute_result"
    }
   ],
   "source": [
    "oligo.author"
   ]
  },
  {
   "cell_type": "code",
   "execution_count": 16,
   "id": "2cae622c-d0b7-4695-b10c-f615a7a74ab2",
   "metadata": {},
   "outputs": [
    {
     "data": {
      "text/plain": [
       "'2119452560@qq.com'"
      ]
     },
     "execution_count": 16,
     "metadata": {},
     "output_type": "execute_result"
    }
   ],
   "source": [
    "oligo.email"
   ]
  },
  {
   "cell_type": "code",
   "execution_count": 17,
   "id": "79031bf4-4a7f-45a8-8e08-54195b32be2f",
   "metadata": {},
   "outputs": [
    {
     "data": {
      "text/plain": [
       "'a nice oligo database'"
      ]
     },
     "execution_count": 17,
     "metadata": {},
     "output_type": "execute_result"
    }
   ],
   "source": [
    "oligo.other_info"
   ]
  },
  {
   "cell_type": "code",
   "execution_count": 18,
   "id": "47e6d5a3-4df8-4a66-abbb-6f57a52b0803",
   "metadata": {},
   "outputs": [
    {
     "data": {
      "text/html": [
       "<div>\n",
       "<style scoped>\n",
       "    .dataframe tbody tr th:only-of-type {\n",
       "        vertical-align: middle;\n",
       "    }\n",
       "\n",
       "    .dataframe tbody tr th {\n",
       "        vertical-align: top;\n",
       "    }\n",
       "\n",
       "    .dataframe thead th {\n",
       "        text-align: right;\n",
       "    }\n",
       "</style>\n",
       "<table border=\"1\" class=\"dataframe\">\n",
       "  <thead>\n",
       "    <tr style=\"text-align: right;\">\n",
       "      <th></th>\n",
       "      <th>name</th>\n",
       "      <th>oligo</th>\n",
       "      <th>temperature</th>\n",
       "      <th>secondary_structure</th>\n",
       "      <th>origin_chr</th>\n",
       "      <th>origin_start</th>\n",
       "      <th>origin_id</th>\n",
       "    </tr>\n",
       "  </thead>\n",
       "  <tbody>\n",
       "    <tr>\n",
       "      <th>0</th>\n",
       "      <td>seq1</td>\n",
       "      <td>AACCGGTGATCGTATAGCTAGTCGTA</td>\n",
       "      <td>40</td>\n",
       "      <td>0.11</td>\n",
       "      <td>chr1</td>\n",
       "      <td>10</td>\n",
       "      <td>1</td>\n",
       "    </tr>\n",
       "    <tr>\n",
       "      <th>1</th>\n",
       "      <td>seq2</td>\n",
       "      <td>AACCGGTGACTGGATAGCTAGTCGTA</td>\n",
       "      <td>42</td>\n",
       "      <td>0.15</td>\n",
       "      <td>chr2</td>\n",
       "      <td>150</td>\n",
       "      <td>1</td>\n",
       "    </tr>\n",
       "    <tr>\n",
       "      <th>2</th>\n",
       "      <td>seq3</td>\n",
       "      <td>AACCGGTGATCGTATCCGTAGTCGTA</td>\n",
       "      <td>44</td>\n",
       "      <td>0.17</td>\n",
       "      <td>chr1</td>\n",
       "      <td>200</td>\n",
       "      <td>1</td>\n",
       "    </tr>\n",
       "    <tr>\n",
       "      <th>3</th>\n",
       "      <td>seq4</td>\n",
       "      <td>AACCGGTTGCCGTATAGCTAGTCGTA</td>\n",
       "      <td>36</td>\n",
       "      <td>0.12</td>\n",
       "      <td>chr4</td>\n",
       "      <td>10</td>\n",
       "      <td>1</td>\n",
       "    </tr>\n",
       "    <tr>\n",
       "      <th>4</th>\n",
       "      <td>seq5</td>\n",
       "      <td>AACCGGTGATCGTAAAGCTAGTCGTA</td>\n",
       "      <td>39</td>\n",
       "      <td>0.22</td>\n",
       "      <td>chr1</td>\n",
       "      <td>1000</td>\n",
       "      <td>2</td>\n",
       "    </tr>\n",
       "    <tr>\n",
       "      <th>5</th>\n",
       "      <td>seq6</td>\n",
       "      <td>AACCGTTAGTCGTATAGCTAGTCGTA</td>\n",
       "      <td>38</td>\n",
       "      <td>0.27</td>\n",
       "      <td>chr3</td>\n",
       "      <td>5000</td>\n",
       "      <td>2</td>\n",
       "    </tr>\n",
       "    <tr>\n",
       "      <th>6</th>\n",
       "      <td>seq7</td>\n",
       "      <td>AACCGGTGATCGTATCCGAAGTCGTA</td>\n",
       "      <td>41</td>\n",
       "      <td>0.03</td>\n",
       "      <td>chr2</td>\n",
       "      <td>2500</td>\n",
       "      <td>2</td>\n",
       "    </tr>\n",
       "    <tr>\n",
       "      <th>7</th>\n",
       "      <td>seq8</td>\n",
       "      <td>AACCGGTGGGACTATAGCTAGTCGTA</td>\n",
       "      <td>43</td>\n",
       "      <td>0.17</td>\n",
       "      <td>chr1</td>\n",
       "      <td>900</td>\n",
       "      <td>2</td>\n",
       "    </tr>\n",
       "    <tr>\n",
       "      <th>8</th>\n",
       "      <td>seq9</td>\n",
       "      <td>AACCGGTGATCGTATATTGGGTCGTA</td>\n",
       "      <td>45</td>\n",
       "      <td>0.08</td>\n",
       "      <td>chr4</td>\n",
       "      <td>4000</td>\n",
       "      <td>2</td>\n",
       "    </tr>\n",
       "  </tbody>\n",
       "</table>\n",
       "</div>"
      ],
      "text/plain": [
       "   name                       oligo  temperature  secondary_structure  \\\n",
       "0  seq1  AACCGGTGATCGTATAGCTAGTCGTA           40                 0.11   \n",
       "1  seq2  AACCGGTGACTGGATAGCTAGTCGTA           42                 0.15   \n",
       "2  seq3  AACCGGTGATCGTATCCGTAGTCGTA           44                 0.17   \n",
       "3  seq4  AACCGGTTGCCGTATAGCTAGTCGTA           36                 0.12   \n",
       "4  seq5  AACCGGTGATCGTAAAGCTAGTCGTA           39                 0.22   \n",
       "5  seq6  AACCGTTAGTCGTATAGCTAGTCGTA           38                 0.27   \n",
       "6  seq7  AACCGGTGATCGTATCCGAAGTCGTA           41                 0.03   \n",
       "7  seq8  AACCGGTGGGACTATAGCTAGTCGTA           43                 0.17   \n",
       "8  seq9  AACCGGTGATCGTATATTGGGTCGTA           45                 0.08   \n",
       "\n",
       "  origin_chr  origin_start  origin_id  \n",
       "0       chr1            10          1  \n",
       "1       chr2           150          1  \n",
       "2       chr1           200          1  \n",
       "3       chr4            10          1  \n",
       "4       chr1          1000          2  \n",
       "5       chr3          5000          2  \n",
       "6       chr2          2500          2  \n",
       "7       chr1           900          2  \n",
       "8       chr4          4000          2  "
      ]
     },
     "execution_count": 18,
     "metadata": {},
     "output_type": "execute_result"
    }
   ],
   "source": [
    "oligo.data"
   ]
  },
  {
   "cell_type": "markdown",
   "id": "e15da0b3-aa87-4043-8ef9-200e75689217",
   "metadata": {},
   "source": [
    "### OLIGO5"
   ]
  },
  {
   "cell_type": "code",
   "execution_count": 1,
   "id": "ce05ecf7-aeff-4ed5-b8cf-b84624dbf099",
   "metadata": {},
   "outputs": [],
   "source": [
    "from oligo import OLIGO5"
   ]
  },
  {
   "cell_type": "code",
   "execution_count": 23,
   "id": "7d5291e2-456c-4a76-b18b-1bce0a5e9a02",
   "metadata": {},
   "outputs": [],
   "source": [
    "oligo5_file = \"./test_data/oligo/test.oligo5\""
   ]
  },
  {
   "cell_type": "code",
   "execution_count": 21,
   "id": "de771431-529a-4505-9006-90f847ceef8d",
   "metadata": {},
   "outputs": [],
   "source": [
    "oligo5 = OLIGO5()"
   ]
  },
  {
   "cell_type": "code",
   "execution_count": 24,
   "id": "dbb21da4-9b8f-434d-bd64-22760995d8e1",
   "metadata": {},
   "outputs": [],
   "source": [
    "oligo5.read(oligo5_file)"
   ]
  },
  {
   "cell_type": "code",
   "execution_count": 25,
   "id": "d745d44a-4a8a-4f06-aba0-945bfbd962f0",
   "metadata": {},
   "outputs": [],
   "source": [
    "oligo5.name"
   ]
  },
  {
   "cell_type": "code",
   "execution_count": 26,
   "id": "4da3b254-4ce7-4f66-8e03-21179f7f93cd",
   "metadata": {},
   "outputs": [
    {
     "data": {
      "text/plain": [
       "{'G-sample': [<oligo.oligo.OLIGO at 0x7f77fc41da90>]}"
      ]
     },
     "execution_count": 26,
     "metadata": {},
     "output_type": "execute_result"
    }
   ],
   "source": [
    "oligo5.oligos"
   ]
  },
  {
   "cell_type": "code",
   "execution_count": 28,
   "id": "72a0173e-07a3-495a-ae27-d42f6436d7e7",
   "metadata": {},
   "outputs": [
    {
     "data": {
      "text/plain": [
       "dict_keys(['G-sample'])"
      ]
     },
     "execution_count": 28,
     "metadata": {},
     "output_type": "execute_result"
    }
   ],
   "source": [
    "oligo5.oligos.keys()"
   ]
  },
  {
   "cell_type": "code",
   "execution_count": 36,
   "id": "611aa471-6ecf-4a19-86e7-a0d1213a9623",
   "metadata": {},
   "outputs": [
    {
     "data": {
      "text/plain": [
       "oligo.oligo.OLIGO"
      ]
     },
     "execution_count": 36,
     "metadata": {},
     "output_type": "execute_result"
    }
   ],
   "source": [
    "type(oligo5.oligos[\"G-sample\"][0])"
   ]
  },
  {
   "cell_type": "code",
   "execution_count": 35,
   "id": "4ace68c4-6bf0-4f23-bfbe-a5f9dd84e214",
   "metadata": {},
   "outputs": [
    {
     "data": {
      "text/plain": [
       "'sample'"
      ]
     },
     "execution_count": 35,
     "metadata": {},
     "output_type": "execute_result"
    }
   ],
   "source": [
    "oligo5.oligos[\"G-sample\"][0].name"
   ]
  },
  {
   "cell_type": "code",
   "execution_count": 37,
   "id": "77d1b7ae-5207-4cba-9027-4f73ff945fe8",
   "metadata": {},
   "outputs": [
    {
     "data": {
      "text/html": [
       "<div>\n",
       "<style scoped>\n",
       "    .dataframe tbody tr th:only-of-type {\n",
       "        vertical-align: middle;\n",
       "    }\n",
       "\n",
       "    .dataframe tbody tr th {\n",
       "        vertical-align: top;\n",
       "    }\n",
       "\n",
       "    .dataframe thead th {\n",
       "        text-align: right;\n",
       "    }\n",
       "</style>\n",
       "<table border=\"1\" class=\"dataframe\">\n",
       "  <thead>\n",
       "    <tr style=\"text-align: right;\">\n",
       "      <th></th>\n",
       "      <th>name</th>\n",
       "      <th>oligo</th>\n",
       "      <th>temperature</th>\n",
       "      <th>secondary_structure</th>\n",
       "      <th>origin_chr</th>\n",
       "      <th>origin_start</th>\n",
       "      <th>origin_id</th>\n",
       "    </tr>\n",
       "  </thead>\n",
       "  <tbody>\n",
       "    <tr>\n",
       "      <th>0</th>\n",
       "      <td>seq1</td>\n",
       "      <td>AACCGGTGATCGTATAGCTAGTCGTA</td>\n",
       "      <td>40</td>\n",
       "      <td>0.11</td>\n",
       "      <td>chr1</td>\n",
       "      <td>10</td>\n",
       "      <td>1</td>\n",
       "    </tr>\n",
       "    <tr>\n",
       "      <th>1</th>\n",
       "      <td>seq2</td>\n",
       "      <td>AACCGGTGACTGGATAGCTAGTCGTA</td>\n",
       "      <td>42</td>\n",
       "      <td>0.15</td>\n",
       "      <td>chr2</td>\n",
       "      <td>150</td>\n",
       "      <td>1</td>\n",
       "    </tr>\n",
       "    <tr>\n",
       "      <th>2</th>\n",
       "      <td>seq3</td>\n",
       "      <td>AACCGGTGATCGTATCCGTAGTCGTA</td>\n",
       "      <td>44</td>\n",
       "      <td>0.17</td>\n",
       "      <td>chr1</td>\n",
       "      <td>200</td>\n",
       "      <td>1</td>\n",
       "    </tr>\n",
       "    <tr>\n",
       "      <th>3</th>\n",
       "      <td>seq4</td>\n",
       "      <td>AACCGGTTGCCGTATAGCTAGTCGTA</td>\n",
       "      <td>36</td>\n",
       "      <td>0.12</td>\n",
       "      <td>chr4</td>\n",
       "      <td>10</td>\n",
       "      <td>1</td>\n",
       "    </tr>\n",
       "    <tr>\n",
       "      <th>4</th>\n",
       "      <td>seq5</td>\n",
       "      <td>AACCGGTGATCGTAAAGCTAGTCGTA</td>\n",
       "      <td>39</td>\n",
       "      <td>0.22</td>\n",
       "      <td>chr1</td>\n",
       "      <td>1000</td>\n",
       "      <td>2</td>\n",
       "    </tr>\n",
       "    <tr>\n",
       "      <th>5</th>\n",
       "      <td>seq6</td>\n",
       "      <td>AACCGTTAGTCGTATAGCTAGTCGTA</td>\n",
       "      <td>38</td>\n",
       "      <td>0.27</td>\n",
       "      <td>chr3</td>\n",
       "      <td>5000</td>\n",
       "      <td>2</td>\n",
       "    </tr>\n",
       "    <tr>\n",
       "      <th>6</th>\n",
       "      <td>seq7</td>\n",
       "      <td>AACCGGTGATCGTATCCGAAGTCGTA</td>\n",
       "      <td>41</td>\n",
       "      <td>0.03</td>\n",
       "      <td>chr2</td>\n",
       "      <td>2500</td>\n",
       "      <td>2</td>\n",
       "    </tr>\n",
       "    <tr>\n",
       "      <th>7</th>\n",
       "      <td>seq8</td>\n",
       "      <td>AACCGGTGGGACTATAGCTAGTCGTA</td>\n",
       "      <td>43</td>\n",
       "      <td>0.17</td>\n",
       "      <td>chr1</td>\n",
       "      <td>900</td>\n",
       "      <td>2</td>\n",
       "    </tr>\n",
       "    <tr>\n",
       "      <th>8</th>\n",
       "      <td>seq9</td>\n",
       "      <td>AACCGGTGATCGTATATTGGGTCGTA</td>\n",
       "      <td>45</td>\n",
       "      <td>0.08</td>\n",
       "      <td>chr4</td>\n",
       "      <td>4000</td>\n",
       "      <td>2</td>\n",
       "    </tr>\n",
       "  </tbody>\n",
       "</table>\n",
       "</div>"
      ],
      "text/plain": [
       "   name                       oligo  temperature  secondary_structure  \\\n",
       "0  seq1  AACCGGTGATCGTATAGCTAGTCGTA           40                 0.11   \n",
       "1  seq2  AACCGGTGACTGGATAGCTAGTCGTA           42                 0.15   \n",
       "2  seq3  AACCGGTGATCGTATCCGTAGTCGTA           44                 0.17   \n",
       "3  seq4  AACCGGTTGCCGTATAGCTAGTCGTA           36                 0.12   \n",
       "4  seq5  AACCGGTGATCGTAAAGCTAGTCGTA           39                 0.22   \n",
       "5  seq6  AACCGTTAGTCGTATAGCTAGTCGTA           38                 0.27   \n",
       "6  seq7  AACCGGTGATCGTATCCGAAGTCGTA           41                 0.03   \n",
       "7  seq8  AACCGGTGGGACTATAGCTAGTCGTA           43                 0.17   \n",
       "8  seq9  AACCGGTGATCGTATATTGGGTCGTA           45                 0.08   \n",
       "\n",
       "  origin_chr  origin_start  origin_id  \n",
       "0       chr1            10          1  \n",
       "1       chr2           150          1  \n",
       "2       chr1           200          1  \n",
       "3       chr4            10          1  \n",
       "4       chr1          1000          2  \n",
       "5       chr3          5000          2  \n",
       "6       chr2          2500          2  \n",
       "7       chr1           900          2  \n",
       "8       chr4          4000          2  "
      ]
     },
     "execution_count": 37,
     "metadata": {},
     "output_type": "execute_result"
    }
   ],
   "source": [
    "oligo5.oligos[\"G-sample\"][0].data"
   ]
  },
  {
   "cell_type": "markdown",
   "id": "5b554da6-70dc-4714-9ce2-f9427b0d5543",
   "metadata": {},
   "source": [
    "#### oligos to oligo5"
   ]
  },
  {
   "cell_type": "code",
   "execution_count": 42,
   "id": "9708d1da-8004-4271-8636-b0d1a499c3f4",
   "metadata": {},
   "outputs": [],
   "source": [
    "oligo5 = OLIGO5(\"oligos\")"
   ]
  },
  {
   "cell_type": "code",
   "execution_count": 2,
   "id": "3b407891-e870-46c4-8c7f-26b32b4830ef",
   "metadata": {},
   "outputs": [],
   "source": [
    "oligo1f = \"test_data/oligo/test.oligo\"\n",
    "oligo2f = \"test_data/oligo/test2.oligo\"\n",
    "oligo3f = \"test_data/oligo/test3.oligo\""
   ]
  },
  {
   "cell_type": "code",
   "execution_count": 47,
   "id": "db93f819-096d-42f4-86fc-cf295c5c77f7",
   "metadata": {},
   "outputs": [],
   "source": [
    "oligo1 = OLIGO()\n",
    "oligo1.read(oligo1f)"
   ]
  },
  {
   "cell_type": "code",
   "execution_count": 48,
   "id": "d3814a69-32fb-455c-8f05-906a35d92a74",
   "metadata": {},
   "outputs": [],
   "source": [
    "oligo2 = OLIGO()\n",
    "oligo2.read(oligo2f)"
   ]
  },
  {
   "cell_type": "code",
   "execution_count": 50,
   "id": "9bef5d30-6521-4c2e-b12e-c1b01cba203c",
   "metadata": {},
   "outputs": [],
   "source": [
    "# read from oligo\n",
    "oligo5.read_soligo(oligo1, oligo2)"
   ]
  },
  {
   "cell_type": "code",
   "execution_count": 51,
   "id": "591e7263-48f7-41bb-b36f-d4d7f6668642",
   "metadata": {},
   "outputs": [
    {
     "data": {
      "text/plain": [
       "{'G-sample': [<oligo.oligo.OLIGO at 0x7f77fb202970>,\n",
       "  <oligo.oligo.OLIGO at 0x7f77fb202970>],\n",
       " 'G-sample2': [<oligo.oligo.OLIGO at 0x7f77fb202460>,\n",
       "  <oligo.oligo.OLIGO at 0x7f77fb202460>]}"
      ]
     },
     "execution_count": 51,
     "metadata": {},
     "output_type": "execute_result"
    }
   ],
   "source": [
    "oligo5.oligos"
   ]
  },
  {
   "cell_type": "code",
   "execution_count": 56,
   "id": "ddd56922-996e-4ef4-b4c9-704a93a8f16d",
   "metadata": {},
   "outputs": [
    {
     "data": {
      "text/plain": [
       "oligo.oligo.OLIGO"
      ]
     },
     "execution_count": 56,
     "metadata": {},
     "output_type": "execute_result"
    }
   ],
   "source": [
    "type(oligo5.oligos[\"G-sample\"][0])"
   ]
  },
  {
   "cell_type": "code",
   "execution_count": 52,
   "id": "82cc01d7-9669-443c-aa1f-081e91500cdc",
   "metadata": {},
   "outputs": [
    {
     "data": {
      "text/html": [
       "<div>\n",
       "<style scoped>\n",
       "    .dataframe tbody tr th:only-of-type {\n",
       "        vertical-align: middle;\n",
       "    }\n",
       "\n",
       "    .dataframe tbody tr th {\n",
       "        vertical-align: top;\n",
       "    }\n",
       "\n",
       "    .dataframe thead th {\n",
       "        text-align: right;\n",
       "    }\n",
       "</style>\n",
       "<table border=\"1\" class=\"dataframe\">\n",
       "  <thead>\n",
       "    <tr style=\"text-align: right;\">\n",
       "      <th></th>\n",
       "      <th>name</th>\n",
       "      <th>oligo</th>\n",
       "      <th>temperature</th>\n",
       "      <th>secondary_structure</th>\n",
       "      <th>origin_chr</th>\n",
       "      <th>origin_start</th>\n",
       "      <th>origin_id</th>\n",
       "    </tr>\n",
       "  </thead>\n",
       "  <tbody>\n",
       "    <tr>\n",
       "      <th>0</th>\n",
       "      <td>seq1</td>\n",
       "      <td>AACCGGTGATCGTATAGCTAGTCGTA</td>\n",
       "      <td>40</td>\n",
       "      <td>0.11</td>\n",
       "      <td>chr1</td>\n",
       "      <td>10</td>\n",
       "      <td>1</td>\n",
       "    </tr>\n",
       "    <tr>\n",
       "      <th>1</th>\n",
       "      <td>seq2</td>\n",
       "      <td>AACCGGTGACTGGATAGCTAGTCGTA</td>\n",
       "      <td>42</td>\n",
       "      <td>0.15</td>\n",
       "      <td>chr2</td>\n",
       "      <td>150</td>\n",
       "      <td>1</td>\n",
       "    </tr>\n",
       "    <tr>\n",
       "      <th>2</th>\n",
       "      <td>seq3</td>\n",
       "      <td>AACCGGTGATCGTATCCGTAGTCGTA</td>\n",
       "      <td>44</td>\n",
       "      <td>0.17</td>\n",
       "      <td>chr1</td>\n",
       "      <td>200</td>\n",
       "      <td>1</td>\n",
       "    </tr>\n",
       "    <tr>\n",
       "      <th>3</th>\n",
       "      <td>seq4</td>\n",
       "      <td>AACCGGTTGCCGTATAGCTAGTCGTA</td>\n",
       "      <td>36</td>\n",
       "      <td>0.12</td>\n",
       "      <td>chr4</td>\n",
       "      <td>10</td>\n",
       "      <td>1</td>\n",
       "    </tr>\n",
       "    <tr>\n",
       "      <th>4</th>\n",
       "      <td>seq5</td>\n",
       "      <td>AACCGGTGATCGTAAAGCTAGTCGTA</td>\n",
       "      <td>39</td>\n",
       "      <td>0.22</td>\n",
       "      <td>chr1</td>\n",
       "      <td>1000</td>\n",
       "      <td>2</td>\n",
       "    </tr>\n",
       "    <tr>\n",
       "      <th>5</th>\n",
       "      <td>seq6</td>\n",
       "      <td>AACCGTTAGTCGTATAGCTAGTCGTA</td>\n",
       "      <td>38</td>\n",
       "      <td>0.27</td>\n",
       "      <td>chr3</td>\n",
       "      <td>5000</td>\n",
       "      <td>2</td>\n",
       "    </tr>\n",
       "    <tr>\n",
       "      <th>6</th>\n",
       "      <td>seq7</td>\n",
       "      <td>AACCGGTGATCGTATCCGAAGTCGTA</td>\n",
       "      <td>41</td>\n",
       "      <td>0.03</td>\n",
       "      <td>chr2</td>\n",
       "      <td>2500</td>\n",
       "      <td>2</td>\n",
       "    </tr>\n",
       "    <tr>\n",
       "      <th>7</th>\n",
       "      <td>seq8</td>\n",
       "      <td>AACCGGTGGGACTATAGCTAGTCGTA</td>\n",
       "      <td>43</td>\n",
       "      <td>0.17</td>\n",
       "      <td>chr1</td>\n",
       "      <td>900</td>\n",
       "      <td>2</td>\n",
       "    </tr>\n",
       "    <tr>\n",
       "      <th>8</th>\n",
       "      <td>seq9</td>\n",
       "      <td>AACCGGTGATCGTATATTGGGTCGTA</td>\n",
       "      <td>45</td>\n",
       "      <td>0.08</td>\n",
       "      <td>chr4</td>\n",
       "      <td>4000</td>\n",
       "      <td>2</td>\n",
       "    </tr>\n",
       "  </tbody>\n",
       "</table>\n",
       "</div>"
      ],
      "text/plain": [
       "   name                       oligo  temperature  secondary_structure  \\\n",
       "0  seq1  AACCGGTGATCGTATAGCTAGTCGTA           40                 0.11   \n",
       "1  seq2  AACCGGTGACTGGATAGCTAGTCGTA           42                 0.15   \n",
       "2  seq3  AACCGGTGATCGTATCCGTAGTCGTA           44                 0.17   \n",
       "3  seq4  AACCGGTTGCCGTATAGCTAGTCGTA           36                 0.12   \n",
       "4  seq5  AACCGGTGATCGTAAAGCTAGTCGTA           39                 0.22   \n",
       "5  seq6  AACCGTTAGTCGTATAGCTAGTCGTA           38                 0.27   \n",
       "6  seq7  AACCGGTGATCGTATCCGAAGTCGTA           41                 0.03   \n",
       "7  seq8  AACCGGTGGGACTATAGCTAGTCGTA           43                 0.17   \n",
       "8  seq9  AACCGGTGATCGTATATTGGGTCGTA           45                 0.08   \n",
       "\n",
       "  origin_chr  origin_start  origin_id  \n",
       "0       chr1            10          1  \n",
       "1       chr2           150          1  \n",
       "2       chr1           200          1  \n",
       "3       chr4            10          1  \n",
       "4       chr1          1000          2  \n",
       "5       chr3          5000          2  \n",
       "6       chr2          2500          2  \n",
       "7       chr1           900          2  \n",
       "8       chr4          4000          2  "
      ]
     },
     "execution_count": 52,
     "metadata": {},
     "output_type": "execute_result"
    }
   ],
   "source": [
    "oligo5.oligos[\"G-sample\"][0].data"
   ]
  },
  {
   "cell_type": "code",
   "execution_count": 54,
   "id": "aa606f2f-039a-455b-8470-6068629d9362",
   "metadata": {},
   "outputs": [
    {
     "data": {
      "text/plain": [
       "'sample'"
      ]
     },
     "execution_count": 54,
     "metadata": {},
     "output_type": "execute_result"
    }
   ],
   "source": [
    "oligo5.oligos[\"G-sample\"][0].name"
   ]
  },
  {
   "cell_type": "code",
   "execution_count": 55,
   "id": "7192e731-a85c-4abc-8a42-7510122940cb",
   "metadata": {},
   "outputs": [
    {
     "data": {
      "text/plain": [
       "'DNA'"
      ]
     },
     "execution_count": 55,
     "metadata": {},
     "output_type": "execute_result"
    }
   ],
   "source": [
    "oligo5.oligos[\"G-sample\"][0].type"
   ]
  },
  {
   "cell_type": "code",
   "execution_count": 53,
   "id": "b8ced192-7c87-40ff-857e-c4a1a74034a4",
   "metadata": {},
   "outputs": [
    {
     "data": {
      "text/html": [
       "<div>\n",
       "<style scoped>\n",
       "    .dataframe tbody tr th:only-of-type {\n",
       "        vertical-align: middle;\n",
       "    }\n",
       "\n",
       "    .dataframe tbody tr th {\n",
       "        vertical-align: top;\n",
       "    }\n",
       "\n",
       "    .dataframe thead th {\n",
       "        text-align: right;\n",
       "    }\n",
       "</style>\n",
       "<table border=\"1\" class=\"dataframe\">\n",
       "  <thead>\n",
       "    <tr style=\"text-align: right;\">\n",
       "      <th></th>\n",
       "      <th>name</th>\n",
       "      <th>oligo</th>\n",
       "      <th>temperature</th>\n",
       "      <th>secondary_structure</th>\n",
       "      <th>origin_chr</th>\n",
       "      <th>origin_start</th>\n",
       "      <th>origin_id</th>\n",
       "    </tr>\n",
       "  </thead>\n",
       "  <tbody>\n",
       "    <tr>\n",
       "      <th>0</th>\n",
       "      <td>seq21</td>\n",
       "      <td>AACCGGTGATCGTATAGCTAGTCGTA</td>\n",
       "      <td>40</td>\n",
       "      <td>0.11</td>\n",
       "      <td>chr1</td>\n",
       "      <td>10</td>\n",
       "      <td>1</td>\n",
       "    </tr>\n",
       "    <tr>\n",
       "      <th>1</th>\n",
       "      <td>seq22</td>\n",
       "      <td>AACCGGTGACTGGATAGCTAGTCGTA</td>\n",
       "      <td>42</td>\n",
       "      <td>0.15</td>\n",
       "      <td>chr2</td>\n",
       "      <td>150</td>\n",
       "      <td>1</td>\n",
       "    </tr>\n",
       "    <tr>\n",
       "      <th>2</th>\n",
       "      <td>seq23</td>\n",
       "      <td>AACCGGTGATCGTATCCGTAGTCGTA</td>\n",
       "      <td>44</td>\n",
       "      <td>0.17</td>\n",
       "      <td>chr1</td>\n",
       "      <td>200</td>\n",
       "      <td>1</td>\n",
       "    </tr>\n",
       "    <tr>\n",
       "      <th>3</th>\n",
       "      <td>seq24</td>\n",
       "      <td>AACCGGTTGCCGTATAGCTAGTCGTA</td>\n",
       "      <td>36</td>\n",
       "      <td>0.12</td>\n",
       "      <td>chr4</td>\n",
       "      <td>10</td>\n",
       "      <td>1</td>\n",
       "    </tr>\n",
       "    <tr>\n",
       "      <th>4</th>\n",
       "      <td>seq25</td>\n",
       "      <td>AACCGGTGATCGTAAAGCTAGTCGTA</td>\n",
       "      <td>39</td>\n",
       "      <td>0.22</td>\n",
       "      <td>chr1</td>\n",
       "      <td>1000</td>\n",
       "      <td>2</td>\n",
       "    </tr>\n",
       "    <tr>\n",
       "      <th>5</th>\n",
       "      <td>seq26</td>\n",
       "      <td>AACCGTTAGTCGTATAGCTAGTCGTA</td>\n",
       "      <td>38</td>\n",
       "      <td>0.27</td>\n",
       "      <td>chr3</td>\n",
       "      <td>5000</td>\n",
       "      <td>2</td>\n",
       "    </tr>\n",
       "    <tr>\n",
       "      <th>6</th>\n",
       "      <td>seq27</td>\n",
       "      <td>AACCGGTGATCGTATCCGAAGTCGTA</td>\n",
       "      <td>41</td>\n",
       "      <td>0.03</td>\n",
       "      <td>chr2</td>\n",
       "      <td>2500</td>\n",
       "      <td>2</td>\n",
       "    </tr>\n",
       "    <tr>\n",
       "      <th>7</th>\n",
       "      <td>seq28</td>\n",
       "      <td>AACCGGTGGGACTATAGCTAGTCGTA</td>\n",
       "      <td>43</td>\n",
       "      <td>0.17</td>\n",
       "      <td>chr1</td>\n",
       "      <td>900</td>\n",
       "      <td>2</td>\n",
       "    </tr>\n",
       "    <tr>\n",
       "      <th>8</th>\n",
       "      <td>seq29</td>\n",
       "      <td>AACCGGTGATCGTATATTGGGTCGTA</td>\n",
       "      <td>45</td>\n",
       "      <td>0.08</td>\n",
       "      <td>chr4</td>\n",
       "      <td>4000</td>\n",
       "      <td>2</td>\n",
       "    </tr>\n",
       "  </tbody>\n",
       "</table>\n",
       "</div>"
      ],
      "text/plain": [
       "    name                       oligo  temperature  secondary_structure  \\\n",
       "0  seq21  AACCGGTGATCGTATAGCTAGTCGTA           40                 0.11   \n",
       "1  seq22  AACCGGTGACTGGATAGCTAGTCGTA           42                 0.15   \n",
       "2  seq23  AACCGGTGATCGTATCCGTAGTCGTA           44                 0.17   \n",
       "3  seq24  AACCGGTTGCCGTATAGCTAGTCGTA           36                 0.12   \n",
       "4  seq25  AACCGGTGATCGTAAAGCTAGTCGTA           39                 0.22   \n",
       "5  seq26  AACCGTTAGTCGTATAGCTAGTCGTA           38                 0.27   \n",
       "6  seq27  AACCGGTGATCGTATCCGAAGTCGTA           41                 0.03   \n",
       "7  seq28  AACCGGTGGGACTATAGCTAGTCGTA           43                 0.17   \n",
       "8  seq29  AACCGGTGATCGTATATTGGGTCGTA           45                 0.08   \n",
       "\n",
       "  origin_chr  origin_start  origin_id  \n",
       "0       chr1            10          1  \n",
       "1       chr2           150          1  \n",
       "2       chr1           200          1  \n",
       "3       chr4            10          1  \n",
       "4       chr1          1000          2  \n",
       "5       chr3          5000          2  \n",
       "6       chr2          2500          2  \n",
       "7       chr1           900          2  \n",
       "8       chr4          4000          2  "
      ]
     },
     "execution_count": 53,
     "metadata": {},
     "output_type": "execute_result"
    }
   ],
   "source": [
    "oligo5.oligos[\"G-sample2\"][0].data"
   ]
  },
  {
   "cell_type": "code",
   "execution_count": 3,
   "id": "3899cd91-657e-43e3-a912-e6da953e549f",
   "metadata": {},
   "outputs": [],
   "source": [
    "# from oligo5\n",
    "oligo5 = OLIGO5()\n",
    "oligo5.read_foligo(oligo1f, oligo2f, oligo3f)"
   ]
  },
  {
   "cell_type": "code",
   "execution_count": 8,
   "id": "c4cec3f6-0bf9-4a6c-a067-0b813a14b330",
   "metadata": {},
   "outputs": [
    {
     "data": {
      "text/plain": [
       "'sample'"
      ]
     },
     "execution_count": 8,
     "metadata": {},
     "output_type": "execute_result"
    }
   ],
   "source": [
    "oligo5.oligos[\"G-sample\"][0].name"
   ]
  },
  {
   "cell_type": "code",
   "execution_count": 9,
   "id": "701be416-3be5-4904-b391-415cfc257040",
   "metadata": {},
   "outputs": [
    {
     "data": {
      "text/plain": [
       "'G-sample'"
      ]
     },
     "execution_count": 9,
     "metadata": {},
     "output_type": "execute_result"
    }
   ],
   "source": [
    "oligo5.oligos[\"G-sample\"][0].group"
   ]
  },
  {
   "cell_type": "code",
   "execution_count": 10,
   "id": "bdef47cb-04f1-4e09-aeb6-2c72de6b3856",
   "metadata": {},
   "outputs": [
    {
     "data": {
      "text/plain": [
       "'sample3'"
      ]
     },
     "execution_count": 10,
     "metadata": {},
     "output_type": "execute_result"
    }
   ],
   "source": [
    "oligo5.oligos[\"G-sample\"][1].name"
   ]
  },
  {
   "cell_type": "code",
   "execution_count": 12,
   "id": "fb491c59-4d5f-401e-be12-398c9347dff1",
   "metadata": {},
   "outputs": [
    {
     "data": {
      "text/plain": [
       "'G-sample'"
      ]
     },
     "execution_count": 12,
     "metadata": {},
     "output_type": "execute_result"
    }
   ],
   "source": [
    "oligo5.oligos[\"G-sample\"][1].group"
   ]
  },
  {
   "cell_type": "code",
   "execution_count": 13,
   "id": "8524cd9f-8a1d-4a5b-926e-283abbad94e4",
   "metadata": {},
   "outputs": [
    {
     "data": {
      "text/plain": [
       "'sample2'"
      ]
     },
     "execution_count": 13,
     "metadata": {},
     "output_type": "execute_result"
    }
   ],
   "source": [
    "oligo5.oligos[\"G-sample2\"][0].name"
   ]
  },
  {
   "cell_type": "code",
   "execution_count": 14,
   "id": "06a99f98-0962-4ac6-8cba-2326fb7ad63f",
   "metadata": {},
   "outputs": [
    {
     "data": {
      "text/plain": [
       "'G-sample2'"
      ]
     },
     "execution_count": 14,
     "metadata": {},
     "output_type": "execute_result"
    }
   ],
   "source": [
    "oligo5.oligos[\"G-sample2\"][0].group"
   ]
  },
  {
   "cell_type": "code",
   "execution_count": 2,
   "id": "a4ff81a7-010e-4cba-b313-cd584724cb04",
   "metadata": {},
   "outputs": [],
   "source": [
    "# read from oligo dir\n",
    "oligo5 = OLIGO5()\n",
    "oligo5.read_doligo(\"test_data/oligo\")"
   ]
  },
  {
   "cell_type": "code",
   "execution_count": 3,
   "id": "b3a50cba-908e-4827-96bb-91133aef0c67",
   "metadata": {},
   "outputs": [
    {
     "data": {
      "text/plain": [
       "{'G-sample': [<oligo.oligo.OLIGO at 0x7ff8906ae130>,\n",
       "  <oligo.oligo.OLIGO at 0x7ff8906bae80>],\n",
       " 'G-sample2': [<oligo.oligo.OLIGO at 0x7ff89069df40>]}"
      ]
     },
     "execution_count": 3,
     "metadata": {},
     "output_type": "execute_result"
    }
   ],
   "source": [
    "oligo5.oligos"
   ]
  },
  {
   "cell_type": "markdown",
   "id": "cad7faab-b3f4-4742-ab75-feaf45d33a88",
   "metadata": {},
   "source": [
    "### oligo5 info"
   ]
  },
  {
   "cell_type": "code",
   "execution_count": 3,
   "id": "c891c741-7b57-422f-bac9-e66d668e2f0d",
   "metadata": {},
   "outputs": [],
   "source": [
    "oligo5.info(\"test_data/oligo/doligo5\")"
   ]
  },
  {
   "cell_type": "markdown",
   "id": "93f76cb3-a4fd-4bed-9e18-a63a710295a4",
   "metadata": {},
   "source": [
    "### to oligo5 file"
   ]
  },
  {
   "cell_type": "code",
   "execution_count": 3,
   "id": "421f45e8-efcb-4946-96fe-96f3b63c54d6",
   "metadata": {},
   "outputs": [],
   "source": [
    "oligo5.to_oligo5(\"test_data/oligo/doligo\")"
   ]
  },
  {
   "cell_type": "markdown",
   "id": "7c464dec-73dc-4626-a077-b70e69640780",
   "metadata": {},
   "source": [
    "### to oligo"
   ]
  },
  {
   "cell_type": "code",
   "execution_count": 5,
   "id": "110ef887-b789-44d3-9d1a-6219aea06e19",
   "metadata": {},
   "outputs": [],
   "source": [
    "oligo5.to_oligo(\"test_data/oligo/O5toO\")"
   ]
  },
  {
   "cell_type": "markdown",
   "id": "6f44d02d-ee30-4433-bb57-ba082ebd4f98",
   "metadata": {},
   "source": [
    "## CLI"
   ]
  },
  {
   "cell_type": "code",
   "execution_count": 2,
   "id": "0e87e1cd-06a6-4f00-a050-5c33b989a9e4",
   "metadata": {},
   "outputs": [
    {
     "name": "stdout",
     "output_type": "stream",
     "text": [
      "warning test_data/oligo exist\n"
     ]
    }
   ],
   "source": [
    "# oligo to oligo5\n",
    "!oligo -ft OstoO5 -o test_data/oligo/test.oligo -n5 test_cli -ot test_data/oligo"
   ]
  },
  {
   "cell_type": "code",
   "execution_count": 5,
   "id": "50fef66e-9349-48a7-96ed-9ca3913101e1",
   "metadata": {},
   "outputs": [
    {
     "name": "stdout",
     "output_type": "stream",
     "text": [
      "warning test_data/oligo exist\n"
     ]
    }
   ],
   "source": [
    "# oligo dir to oligo5\n",
    "!oligo -ft OstoO5 -od test_data/oligo -n5 test_cli_dir -ot test_data/oligo"
   ]
  },
  {
   "cell_type": "code",
   "execution_count": 6,
   "id": "74a4a765-ecfa-41d5-a3f2-31119b554c9e",
   "metadata": {},
   "outputs": [],
   "source": [
    "# oligo5 to oligo\n",
    "!oligo -ft O5toOs -o5 test_data/oligo/test_cli_dir.oligo5 -ot test_data/oligo/O5toOs_cli"
   ]
  }
 ],
 "metadata": {
  "kernelspec": {
   "display_name": "Python 3 (ipykernel)",
   "language": "python",
   "name": "python3"
  },
  "language_info": {
   "codemirror_mode": {
    "name": "ipython",
    "version": 3
   },
   "file_extension": ".py",
   "mimetype": "text/x-python",
   "name": "python",
   "nbconvert_exporter": "python",
   "pygments_lexer": "ipython3",
   "version": "3.9.19"
  }
 },
 "nbformat": 4,
 "nbformat_minor": 5
}
