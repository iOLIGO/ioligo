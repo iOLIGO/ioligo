{
 "cells": [
  {
   "cell_type": "code",
   "execution_count": 82,
   "id": "7e70da7e-c942-4276-9fec-0b2834d39d1f",
   "metadata": {},
   "outputs": [],
   "source": [
    "import pandas as pd\n",
    "import h5py\n",
    "import numpy as np\n",
    "from skbio import DNA, RNA\n",
    "import json\n",
    "\n",
    "\n",
    "class OLIGO:\n",
    "    \"\"\"\n",
    "    \"\"\"\n",
    "    def __init__(self, name):\n",
    "        self.name = name\n",
    "        self.group = \"\"\n",
    "        self.type = \"\"\n",
    "        self.target_genome = {\"fa\":[], \"gtf\":[]}\n",
    "        self.negative_genome = {\"fa\":[], \"gtf\":[]}\n",
    "        self.negative_tools = {\"tools\":\"\", \"version\":\"\", \"params\":\"\"}\n",
    "        self.temperature = {\"low\":\"\", \"high\":\"\"}\n",
    "        self.temperature_tools = {\"tools\":\"\", \"version\":\"\", \"params\":\"\"}\n",
    "        self.secondary_structure = {\"low\":\"\", \"high\":\"\"}\n",
    "        self.secondary_structure_tools = {\"tools\":\"\", \"version\":\"\", \"params\":\"\"}\n",
    "        self.location = {\"fa\":\"\", \"gtf\":\"\"}\n",
    "        self.date = \"\"\n",
    "        self.author = \"\"\n",
    "        self.email = \"\"\n",
    "        self.other_info = \"\"\n",
    "        self.data = pd.DataFrame()\n",
    "    \n",
    "\n",
    "    def tsv_read(self, header, data):\n",
    "\n",
    "        with open(header, \"r\") as fh:\n",
    "            for line in fh:\n",
    "                line_list = line.strip().split(\"\\t\")\n",
    "                feature = line_list[0]\n",
    "                value = line_list[1]\n",
    "                len_value = len(value.split(\";\"))\n",
    "                if feature == \"type\":\n",
    "                    self.type = value\n",
    "                elif feature == \"target_genome\":\n",
    "                    if len_value > 0:\n",
    "                        self.target_genome[\"fa\"] = value.split(\";\")[0].split(\",\")\n",
    "                    if len_value > 1:\n",
    "                        self.target_genome[\"gtf\"] = value.split(\";\")[1].split(\",\")\n",
    "                elif feature == \"negative_genome\":\n",
    "                    if len_value > 0:\n",
    "                        self.negative_genome[\"fa\"] = value.split(\";\")[0].split(\",\")\n",
    "                    if len_value > 1:\n",
    "                        self.negative_genome[\"gtf\"] = value.split(\";\")[1].split(\",\")\n",
    "                elif feature == \"negative_tools\":\n",
    "                    if len_value > 0:\n",
    "                        self.negative_tools[\"tools\"] = value.split(\";\")[0]\n",
    "                    if len_value > 1:\n",
    "                        self.negative_tools[\"version\"] = value.split(\";\")[1]\n",
    "                    if len_value > 2:\n",
    "                        self.negative_tools[\"params\"] = value.split(\";\")[2]\n",
    "                elif feature == \"temperature\":\n",
    "                    if len_value > 0:\n",
    "                        if value.split(\";\")[0]:\n",
    "                            self.temperature[\"low\"] = float(eval(value.split(\";\")[0]))\n",
    "                    if len_value > 1:\n",
    "                        self.temperature[\"high\"] = float(eval(value.split(\";\")[1]))\n",
    "                elif feature == \"temperature_tools\":\n",
    "                    if len_value > 0:\n",
    "                        self.temperature_tools[\"tools\"] = value.split(\";\")[0]\n",
    "                    if len_value > 1:\n",
    "                        self.temperature_tools[\"version\"] = value.split(\";\")[1]\n",
    "                    if len_value > 2:\n",
    "                        self.temperature_tools[\"params\"] = value.split(\";\")[2]\n",
    "                elif feature == \"secondary_structure\":\n",
    "                    if len_value > 0:\n",
    "                        if value.split(\";\")[0]:\n",
    "                            self.secondary_structure[\"low\"] = float(eval(value.split(\";\")[0]))\n",
    "                    if len_value > 1:\n",
    "                        self.secondary_structure[\"high\"] = float(eval(value.split(\";\")[1]))\n",
    "                elif feature == \"secondary_structure_tools\":\n",
    "                    if len_value > 0:\n",
    "                        self.secondary_structure_tools[\"tools\"] = value.split(\";\")[0]\n",
    "                    if len_value > 1:\n",
    "                        self.secondary_structure_tools[\"version\"] = value.split(\";\")[1]\n",
    "                    if len_value > 2:\n",
    "                        self.secondary_structure_tools[\"params\"] = value.split(\";\")[2]\n",
    "                elif feature == \"location\":\n",
    "                    if len_value > 0:\n",
    "                        self.location[\"fa\"] = value.split(\";\")[0]\n",
    "                    if len_value > 1:\n",
    "                        self.location[\"gtf\"] = value.split(\";\")[1]\n",
    "                elif feature == \"date\":\n",
    "                    self.date = value\n",
    "                elif feature == \"author\":\n",
    "                    self.author = value\n",
    "                elif feature == \"email\":\n",
    "                    self.email = value\n",
    "                elif feature == \"other_info\":\n",
    "                    self.other_info = value\n",
    "                else:\n",
    "                    print(f\"no {feature} in oligo format!\")\n",
    "        \n",
    "        df_data = pd.read_csv(data, sep=\"\\t\")\n",
    "\n",
    "        self.data = df_data\n",
    "\n",
    "        return\n",
    "    \n",
    "    def read(self, oligo_file):\n",
    "\n",
    "        with open(oligo_file, \"r\") as f:\n",
    "            for line in f:\n",
    "                if line.startswith(\"#\"):\n",
    "                    line_list = line.strip()[1:].split(\"\\t\")\n",
    "                    feature = line_list[0]\n",
    "                    value = line_list[1]\n",
    "                    len_value = len(value.split(\";\"))\n",
    "                    if feature == \"type\":\n",
    "                        self.type = value\n",
    "                    elif feature == \"target_genome\":\n",
    "                        if len_value > 0:\n",
    "                            self.target_genome[\"fa\"] = value.split(\";\")[0].split(\",\")\n",
    "                        if len_value > 1:\n",
    "                            self.target_genome[\"gtf\"] = value.split(\";\")[1].split(\",\")\n",
    "                    elif feature == \"negative_genome\":\n",
    "                        if len_value > 0:\n",
    "                            self.negative_genome[\"fa\"] = value.split(\";\")[0].split(\",\")\n",
    "                        if len_value > 1:\n",
    "                            self.negative_genome[\"gtf\"] = value.split(\";\")[1].split(\",\")\n",
    "                    elif feature == \"negative_tools\":\n",
    "                        if len_value > 0:\n",
    "                            self.negative_tools[\"tools\"] = value.split(\";\")[0]\n",
    "                        if len_value > 1:\n",
    "                            self.negative_tools[\"version\"] = value.split(\";\")[1]\n",
    "                        if len_value > 2:\n",
    "                            self.negative_tools[\"params\"] = value.split(\";\")[2]\n",
    "                    elif feature == \"temperature\":\n",
    "                        if len_value > 0:\n",
    "                            if value.split(\";\")[0]:\n",
    "                                self.temperature[\"low\"] = float(eval(value.split(\";\")[0]))\n",
    "                        if len_value > 1:\n",
    "                            self.temperature[\"high\"] = float(eval(value.split(\";\")[1]))\n",
    "                    elif feature == \"temperature_tools\":\n",
    "                        if len_value > 0:\n",
    "                            self.temperature_tools[\"tools\"] = value.split(\";\")[0]\n",
    "                        if len_value > 1:\n",
    "                            self.temperature_tools[\"version\"] = value.split(\";\")[1]\n",
    "                        if len_value > 2:\n",
    "                            self.temperature_tools[\"params\"] = value.split(\";\")[2]\n",
    "                    elif feature == \"secondary_structure\":\n",
    "                        if len_value > 0:\n",
    "                            if value.split(\";\")[0]:\n",
    "                                self.secondary_structure[\"low\"] = float(eval(value.split(\";\")[0]))\n",
    "                        if len_value > 1:\n",
    "                            self.secondary_structure[\"high\"] = float(eval(value.split(\";\")[1]))\n",
    "                    elif feature == \"secondary_structure_tools\":\n",
    "                        if len_value > 0:\n",
    "                            self.secondary_structure_tools[\"tools\"] = value.split(\";\")[0]\n",
    "                        if len_value > 1:\n",
    "                            self.secondary_structure_tools[\"version\"] = value.split(\";\")[1]\n",
    "                        if len_value > 2:\n",
    "                            self.secondary_structure_tools[\"params\"] = value.split(\";\")[2]\n",
    "                    elif feature == \"location\":\n",
    "                        if len_value > 0:\n",
    "                            self.location[\"fa\"] = value.split(\";\")[0]\n",
    "                        if len_value > 1:\n",
    "                            self.location[\"gtf\"] = value.split(\";\")[1]\n",
    "                    elif feature == \"date\":\n",
    "                        self.date = value\n",
    "                    elif feature == \"author\":\n",
    "                        self.author = value\n",
    "                    elif feature == \"email\":\n",
    "                        self.email = value\n",
    "                    elif feature == \"other_info\":\n",
    "                        self.other_info = value\n",
    "                    else:\n",
    "                        print(f\"no {feature} in oligo format!\")\n",
    "                else:\n",
    "                    break\n",
    "        \n",
    "        self.data = pd.read_csv(oligo_file, sep=\"\\t\", comment='#')\n",
    "\n",
    "\n",
    "        return\n",
    "\n",
    "\n",
    "    def to_oligo(self, name=None, out_dir=\"./\"):\n",
    "        \n",
    "        if name:\n",
    "            file_name = name\n",
    "        else:\n",
    "            file_name = self.name\n",
    "        \n",
    "        with open(f\"{out_dir}/{file_name}.oligo\", \"w\") as f:\n",
    "            if self.type:\n",
    "                f.write(f\"#type\\t{self.type}\\n\")\n",
    "            if self.target_genome:\n",
    "                str_w = \"\"\n",
    "                if len(self.target_genome[\"fa\"]) > 0:\n",
    "                    str_w = str_w + \",\".join(self.target_genome[\"fa\"])\n",
    "                if len(self.target_genome[\"gtf\"]) > 0:\n",
    "                    str_w = str_w + \";\" + \",\".join(self.target_genome[\"gtf\"])\n",
    "                f.write(f\"#target_genome\\t{str_w}\\n\")\n",
    "            if self.negative_genome:\n",
    "                str_w = \"\"\n",
    "                if len(self.negative_genome[\"fa\"]) > 0:\n",
    "                    str_w = str_w + \",\".join(self.negative_genome[\"fa\"])\n",
    "                if len(self.negative_genome[\"gtf\"]) > 0:\n",
    "                    str_w = str_w + \";\" + \",\".join(self.negative_genome[\"gtf\"])\n",
    "                f.write(f\"#negative_genome\\t{str_w}\\n\")\n",
    "            if len(self.negative_tools) > 0:\n",
    "                f.write(\"#negative_tools\\t\" + \";\".join([self.negative_tools[\"tools\"], self.negative_tools[\"version\"], self.negative_tools[\"params\"]]) + \"\\n\")\n",
    "            if len(self.temperature) > 0:\n",
    "                low = str(self.temperature[\"low\"])\n",
    "                high = str(self.temperature[\"high\"])\n",
    "                f.write(f\"#temperature\\t{low};{high}\\n\")\n",
    "            if len(self.temperature_tools) > 0:\n",
    "                f.write(\"#temperature_tools\\t\" + \";\".join([self.temperature_tools[\"tools\"], self.temperature_tools[\"version\"], self.temperature_tools[\"params\"]]) + \"\\n\")\n",
    "            if len(self.secondary_structure) > 0:\n",
    "                low = str(self.secondary_structure[\"low\"])\n",
    "                high = str(self.secondary_structure[\"high\"])\n",
    "                f.write(f\"#secondary_structure\\t{low};{high}\\n\")\n",
    "            if len(self.secondary_structure_tools) > 0:\n",
    "                f.write(\"#secondary_structure_tools\\t\" + \";\".join([self.secondary_structure_tools[\"tools\"], self.secondary_structure_tools[\"version\"], self.secondary_structure_tools[\"params\"]]) + \"\\n\")\n",
    "            if self.location:\n",
    "                str_w = \"\"\n",
    "                if len(self.location[\"fa\"]) > 0:\n",
    "                    str_w = str_w + self.location[\"fa\"]\n",
    "                if len(self.location[\"gtf\"]) > 0:\n",
    "                    str_w = str_w + \";\" + self.location[\"gtf\"]\n",
    "                f.write(f\"#location\\t{str_w}\\n\")\n",
    "            if self.date:\n",
    "                f.write(f\"#data\\t{self.date}\\n\")\n",
    "            if self.author:\n",
    "                f.write(f\"#author\\t{self.author}\\n\")\n",
    "            if self.email:\n",
    "                f.write(f\"#email\\t{self.email}\\n\")\n",
    "            if self.other_info:\n",
    "                f.write(f\"#other_info\\t{self.other_info}\\n\")\n",
    "\n",
    "        self.data.to_csv(f\"{out_dir}/{file_name}.oligo\", mode=\"a\", sep=\"\\t\", index=None)     \n",
    "\n",
    "       \n",
    "\n",
    "    def to_oligo5(self, name=None, out_dir=\"./\"):\n",
    "\n",
    "        if name:\n",
    "            file_name = name\n",
    "        else:\n",
    "            file_name = self.name\n",
    "\n",
    "        with h5py.File(f\"{out_dir}/{file_name}.oligo5\", \"w\") as f:\n",
    "            \n",
    "            if self.group:\n",
    "                group_name = self.group\n",
    "            else:\n",
    "                group_name = f\"G_{self.name}\"\n",
    "            group = f.create_group(group_name)\n",
    "            dataset = group.create_dataset(self.name, data=self.data.astype(\"str\").values)\n",
    "            dataset.attrs[\"name\"] = self.name\n",
    "            dataset.attrs[\"type\"] = self.type\n",
    "            dataset.attrs[\"target_genome\"] = json.dumps(self.target_genome)\n",
    "            dataset.attrs[\"negative_genome\"] = json.dumps(self.negative_genome)\n",
    "            dataset.attrs[\"negative_tools\"] = json.dumps(self.negative_tools)\n",
    "            dataset.attrs[\"temperature\"] = json.dumps(self.temperature)\n",
    "            dataset.attrs[\"temperature_tools\"] = json.dumps(self.temperature_tools)\n",
    "            dataset.attrs[\"secondary_structure\"] = json.dumps(self.secondary_structure)\n",
    "            dataset.attrs[\"secondary_structure_tools\"] = json.dumps(self.secondary_structure_tools)\n",
    "            dataset.attrs[\"location\"] = json.dumps(self.location)\n",
    "            dataset.attrs[\"date\"] = self.date\n",
    "            dataset.attrs[\"author\"] = self.author\n",
    "            dataset.attrs[\"email\"] = self.email\n",
    "            dataset.attrs[\"other_info\"] = self.other_info\n",
    "            dataset.attrs[\"clomuns\"] = json.dumps({col: str(dtype) for col, dtype in self.data.dtypes.items()})"
   ]
  },
  {
   "cell_type": "code",
   "execution_count": 69,
   "id": "2925dd5b-1247-4eaa-9ff6-09e2dcfef9c2",
   "metadata": {},
   "outputs": [],
   "source": [
    "data = \"../sample_data/TSV/data.tsv\""
   ]
  },
  {
   "cell_type": "code",
   "execution_count": 70,
   "id": "b2924c71-3b71-463a-b8b2-bb6c85454d45",
   "metadata": {},
   "outputs": [],
   "source": [
    "header = \"../sample_data/TSV/header.tsv\""
   ]
  },
  {
   "cell_type": "code",
   "execution_count": 86,
   "id": "8a58afe9-7737-4c7c-90c5-c09333737fd4",
   "metadata": {},
   "outputs": [],
   "source": [
    "oligo = OLIGO(\"test\")"
   ]
  },
  {
   "cell_type": "code",
   "execution_count": 87,
   "id": "f9cb9726-9a89-4f7f-9737-258c4a3b90d0",
   "metadata": {},
   "outputs": [
    {
     "name": "stdout",
     "output_type": "stream",
     "text": [
      "no data in oligo format!\n"
     ]
    }
   ],
   "source": [
    "oligo.read(\"./test.oligo\")"
   ]
  },
  {
   "cell_type": "code",
   "execution_count": 88,
   "id": "9b1ebc2f-174b-42a6-aa42-0bd7958ae7b9",
   "metadata": {},
   "outputs": [
    {
     "data": {
      "text/plain": [
       "'wangcong'"
      ]
     },
     "execution_count": 88,
     "metadata": {},
     "output_type": "execute_result"
    }
   ],
   "source": [
    "oligo.author"
   ]
  },
  {
   "cell_type": "code",
   "execution_count": 90,
   "id": "bbc880d4-ceb3-4d05-baae-f8dda0a21aaa",
   "metadata": {},
   "outputs": [
    {
     "data": {
      "text/plain": [
       "'test'"
      ]
     },
     "execution_count": 90,
     "metadata": {},
     "output_type": "execute_result"
    }
   ],
   "source": [
    "oligo.name"
   ]
  },
  {
   "cell_type": "code",
   "execution_count": 91,
   "id": "060200a0-26df-4070-bd7b-64960d4e5073",
   "metadata": {},
   "outputs": [
    {
     "data": {
      "text/plain": [
       "{'fa': 'fa', 'gtf': 'gtf'}"
      ]
     },
     "execution_count": 91,
     "metadata": {},
     "output_type": "execute_result"
    }
   ],
   "source": [
    "oligo.location"
   ]
  },
  {
   "cell_type": "code",
   "execution_count": 92,
   "id": "1ba18cea-bfae-4a49-b0a2-7aba12bbcc83",
   "metadata": {},
   "outputs": [
    {
     "data": {
      "text/plain": [
       "{'tools': 'biopython', 'version': 'v1.0', 'params': 'default'}"
      ]
     },
     "execution_count": 92,
     "metadata": {},
     "output_type": "execute_result"
    }
   ],
   "source": [
    "oligo.temperature_tools"
   ]
  },
  {
   "cell_type": "code",
   "execution_count": 94,
   "id": "293984ca-92c7-473f-90cf-6595f8d758fb",
   "metadata": {},
   "outputs": [
    {
     "data": {
      "text/plain": [
       "{'low': 35.0, 'high': 45.0}"
      ]
     },
     "execution_count": 94,
     "metadata": {},
     "output_type": "execute_result"
    }
   ],
   "source": [
    "oligo.temperature"
   ]
  },
  {
   "cell_type": "code",
   "execution_count": 95,
   "id": "81dacc3e-4d8e-4d77-9611-c2d24458db70",
   "metadata": {},
   "outputs": [
    {
     "data": {
      "text/plain": [
       "{'low': '', 'high': 0.3}"
      ]
     },
     "execution_count": 95,
     "metadata": {},
     "output_type": "execute_result"
    }
   ],
   "source": [
    "oligo.secondary_structure"
   ]
  },
  {
   "cell_type": "code",
   "execution_count": 80,
   "id": "d9cc5b47-e076-48de-831b-6e74e301d36c",
   "metadata": {},
   "outputs": [
    {
     "data": {
      "text/plain": [
       "{'fa': 'fa', 'gtf': 'gtf'}"
      ]
     },
     "execution_count": 80,
     "metadata": {},
     "output_type": "execute_result"
    }
   ],
   "source": [
    "oligo.location"
   ]
  },
  {
   "cell_type": "code",
   "execution_count": 84,
   "id": "17693fa4-bdc8-4ef8-99e1-b6df5e2654d6",
   "metadata": {},
   "outputs": [
    {
     "name": "stdout",
     "output_type": "stream",
     "text": [
      "no feature in oligo format!\n"
     ]
    }
   ],
   "source": [
    "oligo.tsv_read(header, data)"
   ]
  },
  {
   "cell_type": "code",
   "execution_count": 73,
   "id": "232aad7f-8688-472e-a90f-92131981ff3e",
   "metadata": {},
   "outputs": [
    {
     "data": {
      "text/html": [
       "<div>\n",
       "<style scoped>\n",
       "    .dataframe tbody tr th:only-of-type {\n",
       "        vertical-align: middle;\n",
       "    }\n",
       "\n",
       "    .dataframe tbody tr th {\n",
       "        vertical-align: top;\n",
       "    }\n",
       "\n",
       "    .dataframe thead th {\n",
       "        text-align: right;\n",
       "    }\n",
       "</style>\n",
       "<table border=\"1\" class=\"dataframe\">\n",
       "  <thead>\n",
       "    <tr style=\"text-align: right;\">\n",
       "      <th></th>\n",
       "      <th>name</th>\n",
       "      <th>oligo</th>\n",
       "      <th>temperature</th>\n",
       "      <th>secondary_structure</th>\n",
       "      <th>chr</th>\n",
       "      <th>start</th>\n",
       "    </tr>\n",
       "  </thead>\n",
       "  <tbody>\n",
       "    <tr>\n",
       "      <th>0</th>\n",
       "      <td>seq1</td>\n",
       "      <td>AACCGGTGATCGTATAGCTAGTCGTA</td>\n",
       "      <td>40</td>\n",
       "      <td>0.11</td>\n",
       "      <td>chr1</td>\n",
       "      <td>10</td>\n",
       "    </tr>\n",
       "    <tr>\n",
       "      <th>1</th>\n",
       "      <td>seq2</td>\n",
       "      <td>AACCGGTGACTGGATAGCTAGTCGTA</td>\n",
       "      <td>42</td>\n",
       "      <td>0.15</td>\n",
       "      <td>chr2</td>\n",
       "      <td>150</td>\n",
       "    </tr>\n",
       "    <tr>\n",
       "      <th>2</th>\n",
       "      <td>seq3</td>\n",
       "      <td>AACCGGTGATCGTATCCGTAGTCGTA</td>\n",
       "      <td>44</td>\n",
       "      <td>0.17</td>\n",
       "      <td>chr1</td>\n",
       "      <td>200</td>\n",
       "    </tr>\n",
       "    <tr>\n",
       "      <th>3</th>\n",
       "      <td>seq4</td>\n",
       "      <td>AACCGGTTGCCGTATAGCTAGTCGTA</td>\n",
       "      <td>36</td>\n",
       "      <td>0.12</td>\n",
       "      <td>chr4</td>\n",
       "      <td>10</td>\n",
       "    </tr>\n",
       "    <tr>\n",
       "      <th>4</th>\n",
       "      <td>seq5</td>\n",
       "      <td>AACCGGTGATCGTAAAGCTAGTCGTA</td>\n",
       "      <td>39</td>\n",
       "      <td>0.22</td>\n",
       "      <td>chr1</td>\n",
       "      <td>1000</td>\n",
       "    </tr>\n",
       "    <tr>\n",
       "      <th>5</th>\n",
       "      <td>seq6</td>\n",
       "      <td>AACCGTTAGTCGTATAGCTAGTCGTA</td>\n",
       "      <td>38</td>\n",
       "      <td>0.27</td>\n",
       "      <td>chr3</td>\n",
       "      <td>5000</td>\n",
       "    </tr>\n",
       "    <tr>\n",
       "      <th>6</th>\n",
       "      <td>seq7</td>\n",
       "      <td>AACCGGTGATCGTATCCGAAGTCGTA</td>\n",
       "      <td>41</td>\n",
       "      <td>0.03</td>\n",
       "      <td>chr2</td>\n",
       "      <td>2500</td>\n",
       "    </tr>\n",
       "    <tr>\n",
       "      <th>7</th>\n",
       "      <td>seq8</td>\n",
       "      <td>AACCGGTGGGACTATAGCTAGTCGTA</td>\n",
       "      <td>43</td>\n",
       "      <td>0.17</td>\n",
       "      <td>chr1</td>\n",
       "      <td>900</td>\n",
       "    </tr>\n",
       "    <tr>\n",
       "      <th>8</th>\n",
       "      <td>seq9</td>\n",
       "      <td>AACCGGTGATCGTATATTGGGTCGTA</td>\n",
       "      <td>45</td>\n",
       "      <td>0.08</td>\n",
       "      <td>chr4</td>\n",
       "      <td>4000</td>\n",
       "    </tr>\n",
       "  </tbody>\n",
       "</table>\n",
       "</div>"
      ],
      "text/plain": [
       "   name                       oligo  temperature  secondary_structure   chr  \\\n",
       "0  seq1  AACCGGTGATCGTATAGCTAGTCGTA           40                 0.11  chr1   \n",
       "1  seq2  AACCGGTGACTGGATAGCTAGTCGTA           42                 0.15  chr2   \n",
       "2  seq3  AACCGGTGATCGTATCCGTAGTCGTA           44                 0.17  chr1   \n",
       "3  seq4  AACCGGTTGCCGTATAGCTAGTCGTA           36                 0.12  chr4   \n",
       "4  seq5  AACCGGTGATCGTAAAGCTAGTCGTA           39                 0.22  chr1   \n",
       "5  seq6  AACCGTTAGTCGTATAGCTAGTCGTA           38                 0.27  chr3   \n",
       "6  seq7  AACCGGTGATCGTATCCGAAGTCGTA           41                 0.03  chr2   \n",
       "7  seq8  AACCGGTGGGACTATAGCTAGTCGTA           43                 0.17  chr1   \n",
       "8  seq9  AACCGGTGATCGTATATTGGGTCGTA           45                 0.08  chr4   \n",
       "\n",
       "   start  \n",
       "0     10  \n",
       "1    150  \n",
       "2    200  \n",
       "3     10  \n",
       "4   1000  \n",
       "5   5000  \n",
       "6   2500  \n",
       "7    900  \n",
       "8   4000  "
      ]
     },
     "execution_count": 73,
     "metadata": {},
     "output_type": "execute_result"
    }
   ],
   "source": [
    "oligo.data"
   ]
  },
  {
   "cell_type": "code",
   "execution_count": 85,
   "id": "850d47b8-006c-40a0-b485-6ea0fea93f0e",
   "metadata": {},
   "outputs": [],
   "source": [
    "oligo.to_oligo()"
   ]
  },
  {
   "cell_type": "code",
   "execution_count": 79,
   "id": "87b860ef-87a7-4110-9aa5-71d71941ab30",
   "metadata": {},
   "outputs": [],
   "source": [
    "df = pd.DataFrame(data)"
   ]
  },
  {
   "cell_type": "code",
   "execution_count": 2,
   "id": "3565fe16-5ef0-40d2-923a-04f85713d1bb",
   "metadata": {},
   "outputs": [],
   "source": [
    "import h5py"
   ]
  },
  {
   "cell_type": "code",
   "execution_count": 3,
   "id": "bb98ca11-29ef-4e99-82ec-ea47d10a4752",
   "metadata": {},
   "outputs": [],
   "source": [
    "f = h5py.File(\"../sample_data/TSV/test.oligo5\", \"r\")"
   ]
  },
  {
   "cell_type": "code",
   "execution_count": 8,
   "id": "03c56957-ff15-4da2-8e07-836e4b6a8077",
   "metadata": {},
   "outputs": [
    {
     "name": "stdout",
     "output_type": "stream",
     "text": [
      "data\n",
      "seq\n"
     ]
    }
   ],
   "source": [
    "for group in f:\n",
    "    for dataset in f[group]:\n",
    "        print(dataset)"
   ]
  },
  {
   "cell_type": "code",
   "execution_count": 13,
   "id": "78aeb173-f98d-4f2c-8df5-93ac427f2975",
   "metadata": {},
   "outputs": [
    {
     "data": {
      "text/plain": [
       "array([['seq1', 'AACCGGTGATCGTATAGCTAGTCGTA', '40', '0.11', 'chr1', '10'],\n",
       "       ['seq2', 'AACCGGTGACTGGATAGCTAGTCGTA', '42', '0.15', 'chr2',\n",
       "        '150'],\n",
       "       ['seq3', 'AACCGGTGATCGTATCCGTAGTCGTA', '44', '0.17', 'chr1',\n",
       "        '200'],\n",
       "       ['seq4', 'AACCGGTTGCCGTATAGCTAGTCGTA', '36', '0.12', 'chr4', '10'],\n",
       "       ['seq5', 'AACCGGTGATCGTAAAGCTAGTCGTA', '39', '0.22', 'chr1',\n",
       "        '1000'],\n",
       "       ['seq6', 'AACCGTTAGTCGTATAGCTAGTCGTA', '38', '0.27', 'chr3',\n",
       "        '5000'],\n",
       "       ['seq7', 'AACCGGTGATCGTATCCGAAGTCGTA', '41', '0.03', 'chr2',\n",
       "        '2500'],\n",
       "       ['seq8', 'AACCGGTGGGACTATAGCTAGTCGTA', '43', '0.17', 'chr1',\n",
       "        '900'],\n",
       "       ['seq9', 'AACCGGTGATCGTATATTGGGTCGTA', '45', '0.08', 'chr4',\n",
       "        '4000']], dtype=object)"
      ]
     },
     "execution_count": 13,
     "metadata": {},
     "output_type": "execute_result"
    }
   ],
   "source": [
    "f[\"test\"][\"data\"].asstr()[:]"
   ]
  },
  {
   "cell_type": "code",
   "execution_count": 22,
   "id": "244c7737-b1f3-401a-8547-47696f52d1e0",
   "metadata": {},
   "outputs": [
    {
     "data": {
      "text/plain": [
       "array([['seq1', 'AACCGGTGATCGTATAGCTAGTCGTA', '40', '0.11', 'chr1', '10'],\n",
       "       ['seq2', 'AACCGGTGACTGGATAGCTAGTCGTA', '42', '0.15', 'chr2',\n",
       "        '150'],\n",
       "       ['seq3', 'AACCGGTGATCGTATCCGTAGTCGTA', '44', '0.17', 'chr1',\n",
       "        '200'],\n",
       "       ['seq4', 'AACCGGTTGCCGTATAGCTAGTCGTA', '36', '0.12', 'chr4', '10'],\n",
       "       ['seq5', 'AACCGGTGATCGTAAAGCTAGTCGTA', '39', '0.22', 'chr1',\n",
       "        '1000'],\n",
       "       ['seq6', 'AACCGTTAGTCGTATAGCTAGTCGTA', '38', '0.27', 'chr3',\n",
       "        '5000'],\n",
       "       ['seq7', 'AACCGGTGATCGTATCCGAAGTCGTA', '41', '0.03', 'chr2',\n",
       "        '2500'],\n",
       "       ['seq8', 'AACCGGTGGGACTATAGCTAGTCGTA', '43', '0.17', 'chr1',\n",
       "        '900'],\n",
       "       ['seq9', 'AACCGGTGATCGTATATTGGGTCGTA', '45', '0.08', 'chr4',\n",
       "        '4000']], dtype=object)"
      ]
     },
     "execution_count": 22,
     "metadata": {},
     "output_type": "execute_result"
    }
   ],
   "source": [
    "f[\"test\"][\"test\"].asstr()[:]"
   ]
  },
  {
   "cell_type": "code",
   "execution_count": 28,
   "id": "6060bc04-a584-4237-9a80-e9d4e0585230",
   "metadata": {},
   "outputs": [
    {
     "data": {
      "text/plain": [
       "<KeysViewHDF5 ['author', 'clomuns', 'date', 'email', 'location', 'name', 'negative_genome', 'negative_tools', 'other_info', 'secondary_structure', 'secondary_structure_tools', 'target_genome', 'temperature', 'temperature_tools', 'type']>"
      ]
     },
     "execution_count": 28,
     "metadata": {},
     "output_type": "execute_result"
    }
   ],
   "source": [
    "f[\"test\"][\"test\"].attrs.keys()"
   ]
  },
  {
   "cell_type": "code",
   "execution_count": 29,
   "id": "14afdb6b-6c41-4ce2-8342-7cba5bb40e73",
   "metadata": {},
   "outputs": [
    {
     "data": {
      "text/plain": [
       "'wangcong'"
      ]
     },
     "execution_count": 29,
     "metadata": {},
     "output_type": "execute_result"
    }
   ],
   "source": [
    "f[\"test\"][\"test\"].attrs['author']"
   ]
  },
  {
   "cell_type": "code",
   "execution_count": 30,
   "id": "c2ae5d2d-a6ae-4591-b780-bd74e7c6b8d3",
   "metadata": {},
   "outputs": [
    {
     "data": {
      "text/plain": [
       "'DNA'"
      ]
     },
     "execution_count": 30,
     "metadata": {},
     "output_type": "execute_result"
    }
   ],
   "source": [
    "f[\"test\"][\"test\"].attrs['type']"
   ]
  },
  {
   "cell_type": "code",
   "execution_count": 31,
   "id": "51b6a8ea-d758-462a-8f47-65226a412af6",
   "metadata": {},
   "outputs": [
    {
     "data": {
      "text/plain": [
       "'{\"name\": \"object\", \"oligo\": \"object\", \"temperature\": \"int64\", \"secondary_structure\": \"float64\", \"chr\": \"object\", \"start\": \"int64\"}'"
      ]
     },
     "execution_count": 31,
     "metadata": {},
     "output_type": "execute_result"
    }
   ],
   "source": [
    "f[\"test\"][\"test\"].attrs['clomuns']"
   ]
  },
  {
   "cell_type": "code",
   "execution_count": 32,
   "id": "e12d6aee-ad39-4604-879d-82e35b7334d1",
   "metadata": {},
   "outputs": [],
   "source": [
    "dtypes_dict = json.loads(f[\"test\"][\"test\"].attrs['clomuns'])"
   ]
  },
  {
   "cell_type": "code",
   "execution_count": 9,
   "id": "d53905ba-1db1-462a-bbdd-f2075b4f3755",
   "metadata": {},
   "outputs": [
    {
     "ename": "NameError",
     "evalue": "name 'dtypes_dict' is not defined",
     "output_type": "error",
     "traceback": [
      "\u001b[0;31m---------------------------------------------------------------------------\u001b[0m",
      "\u001b[0;31mNameError\u001b[0m                                 Traceback (most recent call last)",
      "Cell \u001b[0;32mIn[9], line 1\u001b[0m\n\u001b[0;32m----> 1\u001b[0m \u001b[43mdtypes_dict\u001b[49m\n",
      "\u001b[0;31mNameError\u001b[0m: name 'dtypes_dict' is not defined"
     ]
    }
   ],
   "source": [
    "dtypes_dict"
   ]
  },
  {
   "cell_type": "code",
   "execution_count": 35,
   "id": "790b5d0a-fec3-4086-af30-5bd366b4bcf2",
   "metadata": {},
   "outputs": [
    {
     "data": {
      "text/plain": [
       "(9, 6)"
      ]
     },
     "execution_count": 35,
     "metadata": {},
     "output_type": "execute_result"
    }
   ],
   "source": [
    "f[\"test\"][\"test\"].asstr()[:].shape"
   ]
  },
  {
   "cell_type": "code",
   "execution_count": 37,
   "id": "2925d4ea-bb2a-48a9-a664-14f9a1a9474a",
   "metadata": {},
   "outputs": [
    {
     "data": {
      "text/plain": [
       "(9, 6)"
      ]
     },
     "execution_count": 37,
     "metadata": {},
     "output_type": "execute_result"
    }
   ],
   "source": [
    "oligo.data.astype(\"str\").values.shape"
   ]
  },
  {
   "cell_type": "code",
   "execution_count": 39,
   "id": "8a315e17-00a6-4e40-900c-0822bd188e7a",
   "metadata": {},
   "outputs": [
    {
     "data": {
      "text/plain": [
       "(9, 6)"
      ]
     },
     "execution_count": 39,
     "metadata": {},
     "output_type": "execute_result"
    }
   ],
   "source": [
    "oligo.data.shape"
   ]
  },
  {
   "cell_type": "code",
   "execution_count": 49,
   "id": "6d0a8441-7757-42e2-9866-87b4ff06e1cf",
   "metadata": {},
   "outputs": [],
   "source": [
    "df_data = pd.DataFrame(oligo.data.astype(\"str\").values, columns=dtypes_dict.keys())"
   ]
  },
  {
   "cell_type": "code",
   "execution_count": 51,
   "id": "71b46757-c42b-4f0b-9282-1c5a34b701b4",
   "metadata": {},
   "outputs": [],
   "source": [
    "df_data = df_data.astype(dtypes_dict)"
   ]
  },
  {
   "cell_type": "code",
   "execution_count": 52,
   "id": "1c04f8b1-accb-4e8f-8218-ba6e2a985d3e",
   "metadata": {},
   "outputs": [
    {
     "data": {
      "text/plain": [
       "name                    object\n",
       "oligo                   object\n",
       "temperature              int64\n",
       "secondary_structure    float64\n",
       "chr                     object\n",
       "start                    int64\n",
       "dtype: object"
      ]
     },
     "execution_count": 52,
     "metadata": {},
     "output_type": "execute_result"
    }
   ],
   "source": [
    "df_data.dtypes"
   ]
  },
  {
   "cell_type": "code",
   "execution_count": 53,
   "id": "f9e89b2e-bee1-4074-bff6-b30f95f21244",
   "metadata": {},
   "outputs": [
    {
     "data": {
      "text/plain": [
       "'\"\"'"
      ]
     },
     "execution_count": 53,
     "metadata": {},
     "output_type": "execute_result"
    }
   ],
   "source": [
    "json.dumps(\"\")"
   ]
  }
 ],
 "metadata": {
  "kernelspec": {
   "display_name": "Python 3 (ipykernel)",
   "language": "python",
   "name": "python3"
  },
  "language_info": {
   "codemirror_mode": {
    "name": "ipython",
    "version": 3
   },
   "file_extension": ".py",
   "mimetype": "text/x-python",
   "name": "python",
   "nbconvert_exporter": "python",
   "pygments_lexer": "ipython3",
   "version": "3.9.19"
  }
 },
 "nbformat": 4,
 "nbformat_minor": 5
}
